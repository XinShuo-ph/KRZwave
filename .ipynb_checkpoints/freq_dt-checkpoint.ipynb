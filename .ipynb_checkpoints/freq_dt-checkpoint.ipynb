{
 "cells": [
  {
   "cell_type": "code",
   "execution_count": 22,
   "metadata": {
    "collapsed": true
   },
   "outputs": [],
   "source": [
    "import numpy as np\n",
    "from KRZmetric import *"
   ]
  },
  {
   "cell_type": "code",
   "execution_count": 36,
   "metadata": {},
   "outputs": [],
   "source": [
    "def dt_J(chi,e,p,spin):\n",
    "    return 1-2*(1+e*np.cos(chi))/p+spin**2/p**2*(1+e*np.cos(chi))**2"
   ]
  },
  {
   "cell_type": "code",
   "execution_count": 24,
   "metadata": {},
   "outputs": [],
   "source": [
    "def dt_Vr(chi,e,p,spin,E):\n",
    "    x=dt_x(e,p,spin)\n",
    "    return x**2+spin**2+2*spin*x*E-2*x**2/p*(3+e*np.cos(chi))"
   ]
  },
  {
   "cell_type": "code",
   "execution_count": 25,
   "metadata": {},
   "outputs": [],
   "source": [
    "def dt_Vphi(chi,e,p,spin,E):\n",
    "    x=dt_x(e,p,spin)\n",
    "    return x+spin*E-2*x/p*(1+e*cos(chi))\n"
   ]
  },
  {
   "cell_type": "code",
   "execution_count": 26,
   "metadata": {},
   "outputs": [],
   "source": [
    "def dt_Vt(chi,e,p,spin,E):\n",
    "    x=dt_x(e,p,spin)\n",
    "    return spin**2*E-2*spin*x/p*(1+e*np.cos(chi)) + E*p**2/(1+e*np.cos(chi))**2"
   ]
  },
  {
   "cell_type": "code",
   "execution_count": 27,
   "metadata": {
    "collapsed": true
   },
   "outputs": [],
   "source": [
    "def dt_F(e,p,spin):\n",
    "    return (p**3- 2*(3+e**2)*p**2 + (3+e**2)**2 *p- 4*spin**2*(1-e**2)**2 )/p**3"
   ]
  },
  {
   "cell_type": "code",
   "execution_count": 28,
   "metadata": {
    "collapsed": true
   },
   "outputs": [],
   "source": [
    "def dt_N(e,p,spin):\n",
    "    return 2*( -p**2 + ((3+e**2) - spin**2)*p - spin**2*(1+3*e**2)  )/p"
   ]
  },
  {
   "cell_type": "code",
   "execution_count": 29,
   "metadata": {
    "collapsed": true
   },
   "outputs": [],
   "source": [
    "def dt_C(e,p,spin):\n",
    "    return (spin**2-p)**2"
   ]
  },
  {
   "cell_type": "code",
   "execution_count": 30,
   "metadata": {
    "collapsed": true
   },
   "outputs": [],
   "source": [
    "def dt_x(e,p,spin):\n",
    "    return (np.sqrt(dt_N(e,p,spin)**2-4*dt_F(e,p,spin)*dt_C(e,p,spin))-dt_N(e,p,spin))/(2*dt_F(e,p,spin))"
   ]
  },
  {
   "cell_type": "code",
   "execution_count": 31,
   "metadata": {
    "collapsed": true
   },
   "outputs": [],
   "source": [
    "def Tr_intg(chi):\n",
    "    return 2*dt_Vt(chi,e,p,spin,E)/(dt_J(chi,e,p,spin)*np.sqrt(dt_Vr(chi,e,p,spin,E)))"
   ]
  },
  {
   "cell_type": "code",
   "execution_count": 32,
   "metadata": {
    "collapsed": true
   },
   "outputs": [],
   "source": [
    "e=0.5\n",
    "p=6\n",
    "spin=0.5"
   ]
  },
  {
   "cell_type": "code",
   "execution_count": 33,
   "metadata": {
    "collapsed": true
   },
   "outputs": [],
   "source": [
    "rmax=p/(1-e)\n",
    "rmin=p/(1+e)\n",
    "invgmin=metric_KRZ_inverse(spin,0,rmin,np.pi/2)\n",
    "invgmax=metric_KRZ_inverse(spin,0,rmax,np.pi/2)\n",
    "\n",
    "EoverL = ((invgmax[3][0] - invgmin[3][0]) + sqrt((invgmax[3][0] - invgmin[3][0]) *(invgmax[3][0] - invgmin[3][0]) - (invgmax[0][0] - invgmin[0][0])*(invgmax[3][3] - invgmin[3][3]))) / ( invgmax[0][0]-invgmin[0][0] );\n",
    "Lz = sqrt( (invgmax[3][0]-invgmin[3][0]) / ( EoverL*EoverL*( invgmin[3][0]*invgmax[0][0] - invgmax[3][0]*invgmin[0][0] )+ ( invgmin[3][0]*invgmax[3][3]- invgmax[3][0]*invgmin[3][3] )  )   );\n",
    "E=Lz*EoverL"
   ]
  },
  {
   "cell_type": "code",
   "execution_count": 34,
   "metadata": {
    "collapsed": true
   },
   "outputs": [],
   "source": [
    "import scipy"
   ]
  },
  {
   "cell_type": "code",
   "execution_count": 37,
   "metadata": {},
   "outputs": [
    {
     "name": "stderr",
     "output_type": "stream",
     "text": [
      "D:\\ProgramFiles\\lib\\site-packages\\ipykernel_launcher.py:2: RuntimeWarning: invalid value encountered in sqrt\n",
      "  \n",
      "D:\\ProgramFiles\\lib\\site-packages\\scipy\\integrate\\quadpack.py:364: IntegrationWarning: The occurrence of roundoff error is detected, which prevents \n",
      "  the requested tolerance from being achieved.  The error may be \n",
      "  underestimated.\n",
      "  warnings.warn(msg, IntegrationWarning)\n"
     ]
    }
   ],
   "source": [
    "Tr=scipy.integrate.quad(Tr_intg,0,np.pi)"
   ]
  },
  {
   "cell_type": "code",
   "execution_count": 121,
   "metadata": {},
   "outputs": [
    {
     "data": {
      "text/plain": [
       "(0.94519656082582471, 3.1304678824128427, 0.5, 6, 0.5)"
      ]
     },
     "execution_count": 121,
     "metadata": {},
     "output_type": "execute_result"
    }
   ],
   "source": [
    "p=6\n",
    "E,Lz,e,p,spin"
   ]
  },
  {
   "cell_type": "code",
   "execution_count": 164,
   "metadata": {
    "collapsed": true
   },
   "outputs": [],
   "source": [
    "dchi=1e-6\n",
    "chi=np.linspace(dchi/2,np.pi-dchi/2,int(np.pi/dchi))"
   ]
  },
  {
   "cell_type": "code",
   "execution_count": 165,
   "metadata": {},
   "outputs": [
    {
     "data": {
      "text/plain": [
       "array([  5.00000000e-07,   1.50000021e-06,   2.50000042e-06, ...,\n",
       "         3.14159015e+00,   3.14159115e+00,   3.14159215e+00])"
      ]
     },
     "execution_count": 165,
     "metadata": {},
     "output_type": "execute_result"
    }
   ],
   "source": [
    "chi"
   ]
  },
  {
   "cell_type": "code",
   "execution_count": 166,
   "metadata": {
    "collapsed": true
   },
   "outputs": [],
   "source": [
    "J=1-2*(1+e*np.cos(chi))/p+spin**2/p**2*(1+e*np.cos(chi))**2"
   ]
  },
  {
   "cell_type": "code",
   "execution_count": 167,
   "metadata": {},
   "outputs": [
    {
     "data": {
      "text/plain": [
       "array([ 0.515625  ,  0.515625  ,  0.515625  , ...,  0.83506944,\n",
       "        0.83506944,  0.83506944])"
      ]
     },
     "execution_count": 167,
     "metadata": {},
     "output_type": "execute_result"
    }
   ],
   "source": [
    "J"
   ]
  },
  {
   "cell_type": "code",
   "execution_count": 168,
   "metadata": {
    "collapsed": true
   },
   "outputs": [],
   "source": [
    "F=(p**3- 2*(3+e**2)*p**2 + (3+e**2)**2 *p- 4*spin**2*(1-e**2)**2 )/p**3\n",
    "N=2*( -p**2 + ((3+e**2) - spin**2)*p - spin**2*(1+3*e**2)  )/p\n",
    "C=(spin**2-p)**2"
   ]
  },
  {
   "cell_type": "code",
   "execution_count": 169,
   "metadata": {},
   "outputs": [
    {
     "data": {
      "text/plain": [
       "(0.2074652777777778, -6.145833333333333, 33.0625)"
      ]
     },
     "execution_count": 169,
     "metadata": {},
     "output_type": "execute_result"
    }
   ],
   "source": [
    "F,N,C"
   ]
  },
  {
   "cell_type": "code",
   "execution_count": 170,
   "metadata": {},
   "outputs": [
    {
     "data": {
      "text/plain": [
       "10.333984374999993"
      ]
     },
     "execution_count": 170,
     "metadata": {},
     "output_type": "execute_result"
    }
   ],
   "source": [
    "N**2-4*F*C"
   ]
  },
  {
   "cell_type": "code",
   "execution_count": 171,
   "metadata": {},
   "outputs": [],
   "source": [
    "#x=np.sqrt((-N+np.sqrt(N**2-4*F*C))/2/F)\n",
    "x=Lz-spin*E"
   ]
  },
  {
   "cell_type": "code",
   "execution_count": 172,
   "metadata": {},
   "outputs": [
    {
     "data": {
      "text/plain": [
       "2.6578696019999302"
      ]
     },
     "execution_count": 172,
     "metadata": {},
     "output_type": "execute_result"
    }
   ],
   "source": [
    "x"
   ]
  },
  {
   "cell_type": "code",
   "execution_count": 173,
   "metadata": {
    "collapsed": true
   },
   "outputs": [],
   "source": [
    "Vr=x**2+spin**2+2*spin*x*E-2*x**2/p*(3+e*np.cos(chi))\n",
    "Vphi=x+spin*E-2*x/p*(1+e*cos(chi))\n",
    "Vt=spin**2*E-2*spin*x/p*(1+e*np.cos(chi)) + E*p**2/(1+e*np.cos(chi))**2"
   ]
  },
  {
   "cell_type": "code",
   "execution_count": 174,
   "metadata": {},
   "outputs": [
    {
     "data": {
      "text/plain": [
       "(array([ 1.58483074,  1.58483074,  1.58483074, ...,  3.93958768,\n",
       "         3.93958768,  3.93958768]),\n",
       " array([ 1.80153308,  1.80153308,  1.80153308, ...,  2.68748962,\n",
       "         2.68748962,  2.68748962]),\n",
       " array([  14.69497671,   14.69497671,   14.69497671, ...,  136.12311476,\n",
       "         136.12311477,  136.12311477]))"
      ]
     },
     "execution_count": 174,
     "metadata": {},
     "output_type": "execute_result"
    }
   ],
   "source": [
    "Vr,Vphi,Vt"
   ]
  },
  {
   "cell_type": "code",
   "execution_count": 175,
   "metadata": {
    "scrolled": false
   },
   "outputs": [
    {
     "data": {
      "text/plain": [
       "[<matplotlib.lines.Line2D at 0x2c809f04e80>]"
      ]
     },
     "execution_count": 175,
     "metadata": {},
     "output_type": "execute_result"
    },
    {
     "data": {
      "image/png": "[encoded data removed]",
      "text/plain": [
       "<matplotlib.figure.Figure at 0x2c809f4c128>"
      ]
     },
     "metadata": {
      "needs_background": "light"
     },
     "output_type": "display_data"
    }
   ],
   "source": [
    "import matplotlib.pyplot as plt\n",
    "\n",
    "plt.plot(chi,Vr)\n",
    "plt.plot(chi,Vt)\n",
    "plt.plot(chi,Vphi)"
   ]
  },
  {
   "cell_type": "code",
   "execution_count": 176,
   "metadata": {},
   "outputs": [],
   "source": [
    "Tr=2*np.sum(Vt/J/np.sqrt(Vr))*dchi"
   ]
  },
  {
   "cell_type": "code",
   "execution_count": 177,
   "metadata": {},
   "outputs": [
    {
     "data": {
      "text/plain": [
       "0.024937448541679084"
      ]
     },
     "execution_count": 177,
     "metadata": {},
     "output_type": "execute_result"
    }
   ],
   "source": [
    "omg_rdt=2*np.pi/Tr\n",
    "omg_rdt"
   ]
  },
  {
   "cell_type": "code",
   "execution_count": 178,
   "metadata": {},
   "outputs": [],
   "source": [
    "Dphi=2*np.sum(Vphi/J/np.sqrt(Vr))*dchi"
   ]
  },
  {
   "cell_type": "code",
   "execution_count": 179,
   "metadata": {},
   "outputs": [
    {
     "data": {
      "text/plain": [
       "0.052320638647147005"
      ]
     },
     "execution_count": 179,
     "metadata": {},
     "output_type": "execute_result"
    }
   ],
   "source": [
    "omg_phidt=Dphi/Tr\n",
    "omg_phidt"
   ]
  },
  {
   "cell_type": "code",
   "execution_count": 161,
   "metadata": {
    "collapsed": true
   },
   "outputs": [],
   "source": [
    "def getfreq_dt_frommaxi(t,r,phi):\n",
    "    #由序列获得orbital frequency,这个序列必须是从r最大值开始的\n",
    "    #p=np.mean(r)\n",
    "    omgr=[]\n",
    "    omgphi=[]\n",
    "    indr=[]\n",
    "    phi=phi-phi[0]\n",
    "    n=1\n",
    "    for i in np.arange(t.size-1):\n",
    "        if i==0:\n",
    "            indr.append(i)\n",
    "        elif(r[i]>r[i-1] and r[i+1]<r[i]):\n",
    "            indr.append(i)\n",
    "\n",
    "    for ii in np.arange(len(indr)):\n",
    "        if ii==0:\n",
    "            continue\n",
    "        omgr.append(2*np.pi/(t[indr[ii]]-t[indr[ii-1]]))\n",
    "        omgphi.append((phi[indr[ii]]-phi[indr[ii-1]])/(t[indr[ii]]-t[indr[ii-1]]))\n",
    "\n",
    "    omgr=np.array(omgr)\n",
    "    avgomgr=np.mean(omgr)\n",
    "    avgomgphi=np.mean(np.array(omgphi))\n",
    "\n",
    "    return avgomgr,avgomgphi"
   ]
  },
  {
   "cell_type": "code",
   "execution_count": 94,
   "metadata": {
    "collapsed": true
   },
   "outputs": [],
   "source": [
    "d1=0\n",
    "try:\n",
    "    index, tau,t,r,th,phi,ut,ur,uth,uphi,F_t,F_r,F_th,F_phi=np.loadtxt \\\n",
    "('C:\\\\Users\\\\HP\\\\Documents\\\\Visual Studio 2015\\\\Projects\\\\RK4geo8_dt\\\\RK4geo8_dt\\\\trace_spin%.6f_d1%.6f_e%.6f_p%.6f.dat'%(spin,d1,e,p),unpack=True)\n",
    "except:\n",
    "    print('trace_spin%.6f_d1%.6f_e0%.6f_p%.6f.dat  does not exist'%(spin,d1,e,p))\n",
    "    quit()\n"
   ]
  },
  {
   "cell_type": "code",
   "execution_count": 162,
   "metadata": {},
   "outputs": [
    {
     "data": {
      "text/plain": [
       "(0.024937335781133982, 0.052320498117432272)"
      ]
     },
     "execution_count": 162,
     "metadata": {},
     "output_type": "execute_result"
    }
   ],
   "source": [
    "getfreq_dt_frommaxi(t,r,phi)"
   ]
  },
  {
   "cell_type": "code",
   "execution_count": 180,
   "metadata": {},
   "outputs": [
    {
     "data": {
      "text/plain": [
       "(0.024937448541679084, 0.052320638647147005)"
      ]
     },
     "execution_count": 180,
     "metadata": {},
     "output_type": "execute_result"
    }
   ],
   "source": [
    "omg_rdt,omg_phidt"
   ]
  },
  {
   "cell_type": "code",
   "execution_count": null,
   "metadata": {
    "collapsed": true
   },
   "outputs": [],
   "source": []
  }
 ],
 "metadata": {
  "kernelspec": {
   "display_name": "Python 3",
   "language": "python",
   "name": "python3"
  },
  "language_info": {
   "codemirror_mode": {
    "name": "ipython",
    "version": 3
   },
   "file_extension": ".py",
   "mimetype": "text/x-python",
   "name": "python",
   "nbconvert_exporter": "python",
   "pygments_lexer": "ipython3",
   "version": "3.6.3"
  }
 },
 "nbformat": 4,
 "nbformat_minor": 2
}
