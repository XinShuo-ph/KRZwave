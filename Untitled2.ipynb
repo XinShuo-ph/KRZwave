{
 "cells": [
  {
   "cell_type": "code",
   "execution_count": 1,
   "metadata": {
    "collapsed": true
   },
   "outputs": [],
   "source": [
    "spin=0.5\n",
    "avgomgr,avgomgphi=0.034296099758948789, 0.064048204038628501\n",
    "def func(x):#spin,avgomgr,avgomgphi要提前定义好\n",
    "    mye=x[0]\n",
    "    myp=x[1]\n",
    "    y=(np.array((avgomgr,avgomgphi))-np.array(getfreq_fromepa(mye,myp,spin)))/np.array(getfreq_fromepa(mye,myp,spin))\n",
    "    return y"
   ]
  },
  {
   "cell_type": "code",
   "execution_count": 2,
   "metadata": {},
   "outputs": [
    {
     "data": {
      "text/plain": [
       "(0.03429609975894879, 0.0640482040386285)"
      ]
     },
     "execution_count": 2,
     "metadata": {},
     "output_type": "execute_result"
    }
   ],
   "source": [
    "from KRZmetric import *\n",
    "import numpy as np\n",
    "from scipy.optimize import root,fsolve\n",
    "avgomgr,avgomgphi"
   ]
  },
  {
   "cell_type": "code",
   "execution_count": 3,
   "metadata": {},
   "outputs": [
    {
     "name": "stdout",
     "output_type": "stream",
     "text": [
      "called\n",
      "called\n",
      "called\n",
      "called\n",
      "called\n",
      "called\n",
      "called\n",
      "called\n",
      "called\n",
      "called\n",
      "called\n",
      "called\n",
      "called\n",
      "called\n",
      "called\n",
      "called\n",
      "called\n",
      "called\n",
      "called\n",
      "called\n",
      "called\n",
      "called\n",
      "called\n",
      "called\n",
      "called\n",
      "called\n"
     ]
    }
   ],
   "source": [
    "(mye,myp)=fsolve(func,[0.5,6])"
   ]
  },
  {
   "cell_type": "code",
   "execution_count": 4,
   "metadata": {},
   "outputs": [
    {
     "data": {
      "text/plain": [
       "(0.41149667260017403, 6.4825460210987602)"
      ]
     },
     "execution_count": 4,
     "metadata": {},
     "output_type": "execute_result"
    }
   ],
   "source": [
    "mye,myp#积分精度为1e-5"
   ]
  },
  {
   "cell_type": "code",
   "execution_count": null,
   "metadata": {
    "collapsed": true
   },
   "outputs": [],
   "source": []
  }
 ],
 "metadata": {
  "kernelspec": {
   "display_name": "Python 3",
   "language": "python",
   "name": "python3"
  },
  "language_info": {
   "codemirror_mode": {
    "name": "ipython",
    "version": 3
   },
   "file_extension": ".py",
   "mimetype": "text/x-python",
   "name": "python",
   "nbconvert_exporter": "python",
   "pygments_lexer": "ipython3",
   "version": "3.6.3"
  }
 },
 "nbformat": 4,
 "nbformat_minor": 2
}
