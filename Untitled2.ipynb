{
 "cells": [
  {
   "cell_type": "code",
   "execution_count": 1,
   "metadata": {
    "collapsed": true
   },
   "outputs": [],
   "source": [
    "spin=0.5\n",
    "avgomgr,avgomgphi=0.034296099758948789, 0.064048204038628501\n",
    "def func(x):#spin,avgomgr,avgomgphi要提前定义好\n",
    "    mye=x[0]\n",
    "    myp=x[1]\n",
    "    y=(np.array((avgomgr,avgomgphi))-np.array(getfreq_fromepa(mye,myp,spin)))/np.array(getfreq_fromepa(mye,myp,spin))\n",
    "    return y"
   ]
  },
  {
   "cell_type": "code",
   "execution_count": 1,
   "metadata": {},
   "outputs": [],
   "source": [
    "from KRZmetric import *\n",
    "import numpy as np\n",
    "from scipy.optimize import root,fsolve"
   ]
  },
  {
   "cell_type": "code",
   "execution_count": 3,
   "metadata": {},
   "outputs": [
    {
     "name": "stdout",
     "output_type": "stream",
     "text": [
      "called\n",
      "called\n",
      "called\n",
      "called\n",
      "called\n",
      "called\n",
      "called\n",
      "called\n",
      "called\n",
      "called\n",
      "called\n",
      "called\n",
      "called\n",
      "called\n",
      "called\n",
      "called\n",
      "called\n",
      "called\n",
      "called\n",
      "called\n",
      "called\n",
      "called\n",
      "called\n",
      "called\n",
      "called\n",
      "called\n"
     ]
    }
   ],
   "source": [
    "(mye,myp)=fsolve(func,[0.5,6])"
   ]
  },
  {
   "cell_type": "code",
   "execution_count": 4,
   "metadata": {},
   "outputs": [
    {
     "data": {
      "text/plain": [
       "(0.41149667260017403, 6.4825460210987602)"
      ]
     },
     "execution_count": 4,
     "metadata": {},
     "output_type": "execute_result"
    }
   ],
   "source": [
    "mye,myp#积分精度为1e-5"
   ]
  },
  {
   "cell_type": "code",
   "execution_count": 7,
   "metadata": {
    "collapsed": true
   },
   "outputs": [],
   "source": [
    "myomgr,myomgphi=(0.032302396323644504, 0.0677728659479056)"
   ]
  },
  {
   "cell_type": "code",
   "execution_count": 8,
   "metadata": {
    "collapsed": true
   },
   "outputs": [],
   "source": [
    "mye,myp=(0.41149553833407126, 6.4825498393535606)"
   ]
  },
  {
   "cell_type": "code",
   "execution_count": 4,
   "metadata": {},
   "outputs": [
    {
     "data": {
      "text/plain": [
       "(0.032302396323644504, 0.0677728659479056)"
      ]
     },
     "execution_count": 4,
     "metadata": {},
     "output_type": "execute_result"
    }
   ],
   "source": [
    "spin=0.5\n",
    "e=0.5\n",
    "p=6\n",
    "getfreq_fromepa(e,p,spin)"
   ]
  },
  {
   "cell_type": "code",
   "execution_count": 2,
   "metadata": {},
   "outputs": [],
   "source": [
    "import scipy\n",
    "def getfreq_fromepa_Yintg(chi):\n",
    "    rmax=p/(1-e)\n",
    "    rmin=p/(1+e)\n",
    "    invgmin=metric_KRZ_inverse(spin,0,rmin,np.pi/2)\n",
    "    invgmax=metric_KRZ_inverse(spin,0,rmax,np.pi/2)\n",
    "\n",
    "    EoverL = ((invgmax[3][0] - invgmin[3][0]) + sqrt((invgmax[3][0] - invgmin[3][0]) *(invgmax[3][0] - invgmin[3][0]) - (invgmax[0][0] - invgmin[0][0])*(invgmax[3][3] - invgmin[3][3]))) / ( invgmax[0][0]-invgmin[0][0] );\n",
    "    Lz = sqrt( (invgmax[3][0]-invgmin[3][0]) / ( EoverL*EoverL*( invgmin[3][0]*invgmax[0][0] - invgmax[3][0]*invgmin[0][0] )+ ( invgmin[3][0]*invgmax[3][3]- invgmax[3][0]*invgmin[3][3] )  )   );\n",
    "    E=Lz*EoverL\n",
    "    Q=0\n",
    "    myJ=(1-E**2)*(1-e**2)+2*(1-E**2-(1-e**2)/p)*(1+e*np.cos(chi))+((1-E**2)*(3+e**2)/(1-e**2) -4/p +(spin**2*(1-E**2)+Lz**2+Q)*(1-e**2)/p**2 )*np.power(1+e*np.cos(chi),2)\n",
    "    return p**2/((1+e*np.cos(chi))**2)/np.sqrt(myJ)\n",
    "def getfreq_fromepa_Zintg(chi):\n",
    "    rmax=p/(1-e)\n",
    "    rmin=p/(1+e)\n",
    "    invgmin=metric_KRZ_inverse(spin,0,rmin,np.pi/2)\n",
    "    invgmax=metric_KRZ_inverse(spin,0,rmax,np.pi/2)\n",
    "\n",
    "    EoverL = ((invgmax[3][0] - invgmin[3][0]) + sqrt((invgmax[3][0] - invgmin[3][0]) *(invgmax[3][0] - invgmin[3][0]) - (invgmax[0][0] - invgmin[0][0])*(invgmax[3][3] - invgmin[3][3]))) / ( invgmax[0][0]-invgmin[0][0] );\n",
    "    Lz = sqrt( (invgmax[3][0]-invgmin[3][0]) / ( EoverL*EoverL*( invgmin[3][0]*invgmax[0][0] - invgmax[3][0]*invgmin[0][0] )+ ( invgmin[3][0]*invgmax[3][3]- invgmax[3][0]*invgmin[3][3] )  )   );\n",
    "    E=Lz*EoverL\n",
    "    Q=0\n",
    "    myJ=(1-E**2)*(1-e**2)+2*(1-E**2-(1-e**2)/p)*(1+e*np.cos(chi))+((1-E**2)*(3+e**2)/(1-e**2) -4/p +(spin**2*(1-E**2)+Lz**2+Q)*(1-e**2)/p**2 )*np.power(1+e*np.cos(chi),2)\n",
    "    myH=1-2/p*(1+e*cos(chi))+(spin**2)/(p**2)*np.power(1+e*np.cos(chi),2)\n",
    "    myG=Lz-2*(Lz-spin*E)/p*(1+e*np.cos(chi))\n",
    "    return myG/myH/np.sqrt(myJ)\n",
    "\n",
    "def getfreq_fromepa(e,p,spin,listint=False):\n",
    "#因为e，p我没想到塞进被积函数的方法，所以用的时候注意保持定义的e,p,spin和这里的e，p,spin一样，不要传数字，写到文件里也会出错，用的时候把它复制到文件里好了。。。\n",
    "    if listint==True:\n",
    "        rmax=p/(1-e)\n",
    "        rmin=p/(1+e)\n",
    "        invgmin=metric_KRZ_inverse(spin,0,rmin,np.pi/2)\n",
    "        invgmax=metric_KRZ_inverse(spin,0,rmax,np.pi/2)\n",
    "\n",
    "        EoverL = ((invgmax[3][0] - invgmin[3][0]) + sqrt((invgmax[3][0] - invgmin[3][0]) *(invgmax[3][0] - invgmin[3][0]) - (invgmax[0][0] - invgmin[0][0])*(invgmax[3][3] - invgmin[3][3]))) / ( invgmax[0][0]-invgmin[0][0] );\n",
    "        Lz = sqrt( (invgmax[3][0]-invgmin[3][0]) / ( EoverL*EoverL*( invgmin[3][0]*invgmax[0][0] - invgmax[3][0]*invgmin[0][0] )+ ( invgmin[3][0]*invgmax[3][3]- invgmax[3][0]*invgmin[3][3] )  )   );\n",
    "        E=Lz*EoverL\n",
    "        Q=0\n",
    "        dchi=1e-5#积分的精度\n",
    "        chi=np.linspace(dchi/2,np.pi-dchi/2,int(np.pi/dchi))\n",
    "\n",
    "        #reference: https://arxiv.org/pdf/gr-qc/0202090.pdf (39)-(42)\n",
    "        myJ=(1-E**2)*(1-e**2)+2*(1-E**2-(1-e**2)/p)*(1+e*np.cos(chi))+((1-E**2)*(3+e**2)/(1-e**2) -4/p +(spin**2*(1-E**2)+Lz**2+Q)*(1-e**2)/p**2 )*np.power(1+e*np.cos(chi),2)\n",
    "        myH=1-2/p*(1+e*cos(chi))+(spin**2)/(p**2)*np.power(1+e*np.cos(chi),2)\n",
    "        myG=Lz-2*(Lz-spin*E)/p*(1+e*np.cos(chi))\n",
    "\n",
    "        myY=p**2*dchi*np.sum(np.multiply( np.power(1+e*np.cos(chi),-2) ,np.power(myJ,-0.5) ))\n",
    "        myZ=dchi*np.sum(np.multiply(myG, np.multiply( np.power(myH,-1),np.power(myJ,-0.5) ) ))\n",
    "    else:\n",
    "        myY,Yerr=scipy.integrate.quad(getfreq_fromepa_Yintg,0,np.pi,epsrel=1e-15)\n",
    "        myZ,Zerr=scipy.integrate.quad(getfreq_fromepa_Zintg,0,np.pi,epsrel=1e-15)\n",
    "\n",
    "    myomgr=np.pi*p/(1-e**2)/myY\n",
    "    myomgphi=myZ/myY\n",
    "\n",
    "    return myomgr,myomgphi"
   ]
  },
  {
   "cell_type": "code",
   "execution_count": 6,
   "metadata": {},
   "outputs": [
    {
     "ename": "SyntaxError",
     "evalue": "invalid syntax (<ipython-input-6-4f48589979a8>, line 1)",
     "output_type": "error",
     "traceback": [
      "\u001b[1;36m  File \u001b[1;32m\"<ipython-input-6-4f48589979a8>\"\u001b[1;36m, line \u001b[1;32m1\u001b[0m\n\u001b[1;33m    scipy.integrate.quad(fun(,s=2),0,2,epsrel=1e-15)\u001b[0m\n\u001b[1;37m                             ^\u001b[0m\n\u001b[1;31mSyntaxError\u001b[0m\u001b[1;31m:\u001b[0m invalid syntax\n"
     ]
    }
   ],
   "source": [
    "scipy.integrate.quad(fun(,s=2),0,2,epsrel=1e-15)"
   ]
  },
  {
   "cell_type": "code",
   "execution_count": null,
   "metadata": {
    "collapsed": true
   },
   "outputs": [],
   "source": []
  }
 ],
 "metadata": {
  "kernelspec": {
   "display_name": "Python 3",
   "language": "python",
   "name": "python3"
  },
  "language_info": {
   "codemirror_mode": {
    "name": "ipython",
    "version": 3
   },
   "file_extension": ".py",
   "mimetype": "text/x-python",
   "name": "python",
   "nbconvert_exporter": "python",
   "pygments_lexer": "ipython3",
   "version": "3.6.3"
  }
 },
 "nbformat": 4,
 "nbformat_minor": 2
}
