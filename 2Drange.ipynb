{
 "cells": [
  {
   "cell_type": "code",
   "execution_count": 1,
   "metadata": {
    "collapsed": true
   },
   "outputs": [],
   "source": [
    "import numpy as np\n",
    "import matplotlib.pyplot as plt"
   ]
  },
  {
   "cell_type": "code",
   "execution_count": 2,
   "metadata": {},
   "outputs": [
    {
     "data": {
      "text/plain": [
       "array([ 0.3 ,  0.35,  0.4 ,  0.45,  0.5 ,  0.55,  0.6 ,  0.65,  0.7 ,\n",
       "        0.75,  0.8 ,  0.85,  0.9 ,  0.95])"
      ]
     },
     "execution_count": 2,
     "metadata": {},
     "output_type": "execute_result"
    }
   ],
   "source": [
    "spinl=np.arange(0.30,0.96,0.05)\n",
    "spinl"
   ]
  },
  {
   "cell_type": "code",
   "execution_count": 41,
   "metadata": {
    "collapsed": true
   },
   "outputs": [],
   "source": [
    "spinl=[ 0.3 ,  0.35,  0.4 ,  0.45,  0.5 ,  0.55,  0.6 ,  0.65,  0.7 , 0.75,  0.8 ,  0.85,  0.9 ,  0.95]\n",
    "lb=   [ -0.04, -0.1, -0.18,-0.24,  -0.30, -0.38, -0.46, -0.52, -0.62, -0.72, -0.84, -1.1,-1.1,-1.1]"
   ]
  },
  {
   "cell_type": "code",
   "execution_count": 42,
   "metadata": {},
   "outputs": [
    {
     "data": {
      "text/plain": [
       "(-1, 1)"
      ]
     },
     "execution_count": 42,
     "metadata": {},
     "output_type": "execute_result"
    },
    {
     "data": {
      "image/png": "[encoded data removed]",
      "text/plain": [
       "<matplotlib.figure.Figure at 0x2e7d4d02630>"
      ]
     },
     "metadata": {
      "needs_background": "light"
     },
     "output_type": "display_data"
    }
   ],
   "source": [
    "plt.plot(spinl,lb)\n",
    "plt.ylim(-1,1)"
   ]
  },
  {
   "cell_type": "code",
   "execution_count": 6,
   "metadata": {
    "collapsed": true
   },
   "outputs": [],
   "source": [
    "import pickle\n",
    "dic=pickle.load(open('firstana.p','rb'))"
   ]
  },
  {
   "cell_type": "code",
   "execution_count": 7,
   "metadata": {},
   "outputs": [
    {
     "data": {
      "text/plain": [
       "{'M_kerr': array([[ 200000.        ,  200000.        ,  200000.        ,\n",
       "          200000.        ,  200000.        ,  200000.        ,\n",
       "          200000.        ,  200000.        ,  200000.        ,\n",
       "          200000.        ,  200000.        ],\n",
       "        [ 200000.        ,  200000.        ,  200000.        ,\n",
       "          200000.        ,  200000.        ,  200000.        ,\n",
       "          200000.        ,  200000.        ,  200000.        ,\n",
       "          200000.        ,  200000.        ],\n",
       "        [ 200000.        ,  200000.        ,  200000.        ,\n",
       "          200000.        ,  200000.        ,  200000.        ,\n",
       "          200000.        ,  200000.        ,  200000.        ,\n",
       "          200000.        ,  200000.        ],\n",
       "        [ 200000.        ,  200000.        ,  200000.        ,\n",
       "          200000.        ,  200000.        ,  200000.        ,\n",
       "          200000.        ,  200000.        ,  200000.        ,\n",
       "          200000.        ,  200000.        ],\n",
       "        [ 200000.        ,  200000.        ,  200000.        ,\n",
       "          200000.        ,  200000.        ,  200000.        ,\n",
       "          200000.        ,  200000.        ,  200000.        ,\n",
       "          200000.        ,  200000.        ],\n",
       "        [ 308663.36075067,  281288.16889079,  257019.22636214,\n",
       "          234698.03175383,  213309.76899637,  199998.04969359,\n",
       "          201019.3483261 ,  202280.37012289,  203602.99073339,\n",
       "          204902.25898815,  205833.32950661],\n",
       "        [ 293010.90660196,  267900.90195063,  245093.96261347,\n",
       "          223565.24120598,  200000.        ,  199998.42017799,\n",
       "          201053.2399246 ,  202267.65401711,  203516.03005345,\n",
       "          204729.32810176,  205337.00556834],\n",
       "        [ 278260.66943025,  255041.50402515,  233397.20322615,\n",
       "          212337.12762869,  200000.        ,  199999.34681237,\n",
       "          201058.97020307,  202223.72413733,  203399.29544284,\n",
       "          204524.95267824,  203424.43477411],\n",
       "        [ 264201.78000511,  242531.01813513,  221748.83807521,\n",
       "          200000.        ,  199150.4872392 ,  200000.49853758,\n",
       "          201046.64870069,  202154.90500273,  203253.73115292,\n",
       "          204293.2078544 ,  204089.30993125],\n",
       "        [ 250626.99945913,  230177.10049689,  200000.        ,\n",
       "          200000.        ,  199104.50517554,  200000.03431153,\n",
       "          201018.10296622,  202063.80946528,  203085.97793003,\n",
       "          203497.41944763,  201223.26908579],\n",
       "        [ 237319.02029861,  200000.        ,  200000.        ,\n",
       "          200000.        ,  199094.59522708,  200000.16105613,\n",
       "          200976.15327138,  201956.46658828,  202898.39648078,\n",
       "          201814.60037456,  202179.06804291],\n",
       "        [ 224027.31727567,  200000.        ,  200000.        ,\n",
       "          198325.75713753,  199110.75480722,  200001.13026299,\n",
       "          200924.71071306,  201834.01114361,  202695.18092302,\n",
       "          202243.63865823,  200000.        ],\n",
       "        [ 200000.        ,  200000.        ,  200000.        ,\n",
       "          198345.05328663,  199146.1402007 ,  200001.90951317,\n",
       "          200863.36228004,  201697.53347663,  201907.24960908,\n",
       "          200000.        ,  200000.        ],\n",
       "        [ 200000.        ,  200000.        ,  197691.64452717,\n",
       "          198412.88815289,  199197.43744797,  200002.38820827,\n",
       "          200794.31753483,  201549.27682333,  201925.88914435,\n",
       "          200000.        ,  200000.        ],\n",
       "        [ 200000.        ,  200000.        ,  197796.57898243,\n",
       "          198518.86882447,  199262.9055184 ,  200002.97269886,\n",
       "          200718.76716538,  201393.18941372,  200000.        ,\n",
       "          200000.        ,  200000.        ],\n",
       "        [ 200000.        ,  197305.01975802,  197972.22398965,\n",
       "          198657.13671031,  199339.07219358,  200002.81289295,\n",
       "          200637.26363065,  201181.28786048,  200000.        ,\n",
       "          200000.        ,  200000.        ],\n",
       "        [ 196959.8739853 ,  197577.9922959 ,  198204.77569934,\n",
       "          198823.9820461 ,  199426.77995064,  200003.44710441,\n",
       "          200548.86073501,  200000.        ,  200000.        ,\n",
       "          200000.        ,  200000.        ],\n",
       "        [ 197387.9604057 ,  197945.69727224,  198491.14237362,\n",
       "          199019.36136053,  199524.25297581,  200004.76127183,\n",
       "          200453.11672324,  200000.        ,  200000.        ,\n",
       "          200000.        ,  200000.        ],\n",
       "        [ 197970.97960231,  198414.04735127,  198842.01456762,\n",
       "          199250.15858773,  199639.16553008,  200006.18763278,\n",
       "          200000.        ,  200000.        ,  200000.        ,\n",
       "          200000.        ,  200000.        ]]),\n",
       " 'a_kerr': array([[ 0.05      ,  0.05      ,  0.05      ,  0.05      ,  0.05      ,\n",
       "          0.05      ,  0.05      ,  0.05      ,  0.05      ,  0.05      ,\n",
       "          0.05      ],\n",
       "        [ 0.1       ,  0.1       ,  0.1       ,  0.1       ,  0.1       ,\n",
       "          0.1       ,  0.1       ,  0.1       ,  0.1       ,  0.1       ,\n",
       "          0.1       ],\n",
       "        [ 0.15      ,  0.15      ,  0.15      ,  0.15      ,  0.15      ,\n",
       "          0.15      ,  0.15      ,  0.15      ,  0.15      ,  0.15      ,\n",
       "          0.15      ],\n",
       "        [ 0.2       ,  0.2       ,  0.2       ,  0.2       ,  0.2       ,\n",
       "          0.2       ,  0.2       ,  0.2       ,  0.2       ,  0.2       ,\n",
       "          0.2       ],\n",
       "        [ 0.25      ,  0.25      ,  0.25      ,  0.25      ,  0.25      ,\n",
       "          0.25      ,  0.25      ,  0.25      ,  0.25      ,  0.25      ,\n",
       "          0.25      ],\n",
       "        [ 0.70327702,  0.60856047,  0.51166994,  0.41392369,  0.31763106,\n",
       "          0.29998214,  0.41295632,  0.53904948,  0.67875124,  0.83452683,\n",
       "          0.96908175],\n",
       "        [ 0.65133656,  0.55632811,  0.45944242,  0.36258177,  0.35      ,\n",
       "          0.34999019,  0.46499283,  0.5925419 ,  0.73380382,  0.89149925,\n",
       "          0.99652192],\n",
       "        [ 0.59767537,  0.50276646,  0.40655947,  0.31208541,  0.4       ,\n",
       "          0.39999223,  0.51641975,  0.6450111 ,  0.78735737,  0.94640039,\n",
       "          0.90525193],\n",
       "        [ 0.54227055,  0.44801297,  0.35359489,  0.45      ,  0.34414832,\n",
       "          0.44999235,  0.5672586 ,  0.69639296,  0.83925976,  0.99893814,\n",
       "          0.99650409],\n",
       "        [ 0.485144  ,  0.39240877,  0.5       ,  0.5       ,  0.39311073,\n",
       "          0.49999503,  0.61749614,  0.74658653,  0.88928105,  0.96053841,\n",
       "          0.88464604],\n",
       "        [ 0.42645638,  0.55      ,  0.55      ,  0.55      ,  0.44293118,\n",
       "          0.5499969 ,  0.66708332,  0.79543284,  0.93715383,  0.88948291,\n",
       "          0.95485912],\n",
       "        [ 0.3667309 ,  0.6       ,  0.6       ,  0.3960052 ,  0.49354862,\n",
       "          0.59999668,  0.71593674,  0.84274529,  0.98253775,  0.94945222,\n",
       "          0.6       ],\n",
       "        [ 0.65      ,  0.65      ,  0.65      ,  0.44812051,  0.54499567,\n",
       "          0.64999687,  0.76395746,  0.8882855 ,  0.92754796,  0.65      ,\n",
       "          0.65      ],\n",
       "        [ 0.7       ,  0.7       ,  0.41398924,  0.50216955,  0.59736284,\n",
       "          0.69999815,  0.81100075,  0.93174135,  0.97666334,  0.7       ,\n",
       "          0.7       ],\n",
       "        [ 0.75      ,  0.75      ,  0.47211175,  0.55836446,  0.65079919,\n",
       "          0.74999924,  0.85687541,  0.97269275,  0.75      ,  0.75      ,\n",
       "          0.75      ],\n",
       "        [ 0.8       ,  0.45613829,  0.53410151,  0.6171109 ,  0.70554359,\n",
       "          0.80000379,  0.90131527,  0.98106561,  0.8       ,  0.8       ,\n",
       "          0.8       ],\n",
       "        [ 0.45689172,  0.52690349,  0.60088512,  0.67910411,  0.76196136,\n",
       "          0.85000527,  0.94392349,  0.85      ,  0.85      ,  0.85      ,\n",
       "          0.85      ],\n",
       "        [ 0.54157818,  0.60636077,  0.67428657,  0.74562486,  0.82072648,\n",
       "          0.90000331,  0.98399726,  0.9       ,  0.9       ,  0.9       ,\n",
       "          0.9       ],\n",
       "        [ 0.64394177,  0.70020541,  0.75872616,  0.81971056,  0.88337737,\n",
       "          0.95000033,  0.95      ,  0.95      ,  0.95      ,  0.95      ,\n",
       "          0.95      ]]),\n",
       " 'a_krz': array([[ 0.05,  0.05,  0.05,  0.05,  0.05,  0.05,  0.05,  0.05,  0.05,\n",
       "          0.05,  0.05],\n",
       "        [ 0.1 ,  0.1 ,  0.1 ,  0.1 ,  0.1 ,  0.1 ,  0.1 ,  0.1 ,  0.1 ,\n",
       "          0.1 ,  0.1 ],\n",
       "        [ 0.15,  0.15,  0.15,  0.15,  0.15,  0.15,  0.15,  0.15,  0.15,\n",
       "          0.15,  0.15],\n",
       "        [ 0.2 ,  0.2 ,  0.2 ,  0.2 ,  0.2 ,  0.2 ,  0.2 ,  0.2 ,  0.2 ,\n",
       "          0.2 ,  0.2 ],\n",
       "        [ 0.25,  0.25,  0.25,  0.25,  0.25,  0.25,  0.25,  0.25,  0.25,\n",
       "          0.25,  0.25],\n",
       "        [ 0.3 ,  0.3 ,  0.3 ,  0.3 ,  0.3 ,  0.3 ,  0.3 ,  0.3 ,  0.3 ,\n",
       "          0.3 ,  0.3 ],\n",
       "        [ 0.35,  0.35,  0.35,  0.35,  0.35,  0.35,  0.35,  0.35,  0.35,\n",
       "          0.35,  0.35],\n",
       "        [ 0.4 ,  0.4 ,  0.4 ,  0.4 ,  0.4 ,  0.4 ,  0.4 ,  0.4 ,  0.4 ,\n",
       "          0.4 ,  0.4 ],\n",
       "        [ 0.45,  0.45,  0.45,  0.45,  0.45,  0.45,  0.45,  0.45,  0.45,\n",
       "          0.45,  0.45],\n",
       "        [ 0.5 ,  0.5 ,  0.5 ,  0.5 ,  0.5 ,  0.5 ,  0.5 ,  0.5 ,  0.5 ,\n",
       "          0.5 ,  0.5 ],\n",
       "        [ 0.55,  0.55,  0.55,  0.55,  0.55,  0.55,  0.55,  0.55,  0.55,\n",
       "          0.55,  0.55],\n",
       "        [ 0.6 ,  0.6 ,  0.6 ,  0.6 ,  0.6 ,  0.6 ,  0.6 ,  0.6 ,  0.6 ,\n",
       "          0.6 ,  0.6 ],\n",
       "        [ 0.65,  0.65,  0.65,  0.65,  0.65,  0.65,  0.65,  0.65,  0.65,\n",
       "          0.65,  0.65],\n",
       "        [ 0.7 ,  0.7 ,  0.7 ,  0.7 ,  0.7 ,  0.7 ,  0.7 ,  0.7 ,  0.7 ,\n",
       "          0.7 ,  0.7 ],\n",
       "        [ 0.75,  0.75,  0.75,  0.75,  0.75,  0.75,  0.75,  0.75,  0.75,\n",
       "          0.75,  0.75],\n",
       "        [ 0.8 ,  0.8 ,  0.8 ,  0.8 ,  0.8 ,  0.8 ,  0.8 ,  0.8 ,  0.8 ,\n",
       "          0.8 ,  0.8 ],\n",
       "        [ 0.85,  0.85,  0.85,  0.85,  0.85,  0.85,  0.85,  0.85,  0.85,\n",
       "          0.85,  0.85],\n",
       "        [ 0.9 ,  0.9 ,  0.9 ,  0.9 ,  0.9 ,  0.9 ,  0.9 ,  0.9 ,  0.9 ,\n",
       "          0.9 ,  0.9 ],\n",
       "        [ 0.95,  0.95,  0.95,  0.95,  0.95,  0.95,  0.95,  0.95,  0.95,\n",
       "          0.95,  0.95]]),\n",
       " 'd1_krz': array([[-1. , -0.8, -0.6, -0.4, -0.2,  0. ,  0.2,  0.4,  0.6,  0.8,  1. ],\n",
       "        [-1. , -0.8, -0.6, -0.4, -0.2,  0. ,  0.2,  0.4,  0.6,  0.8,  1. ],\n",
       "        [-1. , -0.8, -0.6, -0.4, -0.2,  0. ,  0.2,  0.4,  0.6,  0.8,  1. ],\n",
       "        [-1. , -0.8, -0.6, -0.4, -0.2,  0. ,  0.2,  0.4,  0.6,  0.8,  1. ],\n",
       "        [-1. , -0.8, -0.6, -0.4, -0.2,  0. ,  0.2,  0.4,  0.6,  0.8,  1. ],\n",
       "        [-1. , -0.8, -0.6, -0.4, -0.2,  0. ,  0.2,  0.4,  0.6,  0.8,  1. ],\n",
       "        [-1. , -0.8, -0.6, -0.4, -0.2,  0. ,  0.2,  0.4,  0.6,  0.8,  1. ],\n",
       "        [-1. , -0.8, -0.6, -0.4, -0.2,  0. ,  0.2,  0.4,  0.6,  0.8,  1. ],\n",
       "        [-1. , -0.8, -0.6, -0.4, -0.2,  0. ,  0.2,  0.4,  0.6,  0.8,  1. ],\n",
       "        [-1. , -0.8, -0.6, -0.4, -0.2,  0. ,  0.2,  0.4,  0.6,  0.8,  1. ],\n",
       "        [-1. , -0.8, -0.6, -0.4, -0.2,  0. ,  0.2,  0.4,  0.6,  0.8,  1. ],\n",
       "        [-1. , -0.8, -0.6, -0.4, -0.2,  0. ,  0.2,  0.4,  0.6,  0.8,  1. ],\n",
       "        [-1. , -0.8, -0.6, -0.4, -0.2,  0. ,  0.2,  0.4,  0.6,  0.8,  1. ],\n",
       "        [-1. , -0.8, -0.6, -0.4, -0.2,  0. ,  0.2,  0.4,  0.6,  0.8,  1. ],\n",
       "        [-1. , -0.8, -0.6, -0.4, -0.2,  0. ,  0.2,  0.4,  0.6,  0.8,  1. ],\n",
       "        [-1. , -0.8, -0.6, -0.4, -0.2,  0. ,  0.2,  0.4,  0.6,  0.8,  1. ],\n",
       "        [-1. , -0.8, -0.6, -0.4, -0.2,  0. ,  0.2,  0.4,  0.6,  0.8,  1. ],\n",
       "        [-1. , -0.8, -0.6, -0.4, -0.2,  0. ,  0.2,  0.4,  0.6,  0.8,  1. ],\n",
       "        [-1. , -0.8, -0.6, -0.4, -0.2,  0. ,  0.2,  0.4,  0.6,  0.8,  1. ]]),\n",
       " 'ier': array([[ 5.,  5.,  5.,  5.,  5.,  5.,  5.,  5.,  5.,  5.,  5.],\n",
       "        [ 5.,  5.,  5.,  5.,  5.,  5.,  5.,  5.,  5.,  5.,  5.],\n",
       "        [ 5.,  5.,  5.,  5.,  5.,  5.,  5.,  5.,  5.,  5.,  5.],\n",
       "        [ 5.,  5.,  5.,  5.,  5.,  5.,  5.,  5.,  5.,  5.,  5.],\n",
       "        [ 5.,  5.,  5.,  5.,  5.,  5.,  5.,  5.,  5.,  5.,  5.],\n",
       "        [ 1.,  1.,  1.,  1.,  1.,  1.,  1.,  1.,  1.,  1.,  5.],\n",
       "        [ 1.,  1.,  1.,  1.,  5.,  1.,  1.,  1.,  1.,  1.,  5.],\n",
       "        [ 1.,  1.,  1.,  1.,  5.,  1.,  1.,  1.,  1.,  1.,  5.],\n",
       "        [ 1.,  1.,  1.,  5.,  1.,  1.,  1.,  1.,  1.,  1.,  5.],\n",
       "        [ 1.,  1.,  5.,  5.,  1.,  1.,  1.,  1.,  1.,  5.,  5.],\n",
       "        [ 1.,  5.,  5.,  5.,  1.,  1.,  1.,  1.,  1.,  5.,  5.],\n",
       "        [ 1.,  5.,  5.,  1.,  1.,  1.,  1.,  1.,  1.,  5.,  5.],\n",
       "        [ 5.,  5.,  5.,  1.,  1.,  1.,  1.,  1.,  5.,  5.,  5.],\n",
       "        [ 5.,  5.,  1.,  1.,  1.,  1.,  1.,  1.,  5.,  5.,  5.],\n",
       "        [ 5.,  5.,  1.,  1.,  1.,  1.,  1.,  1.,  5.,  5.,  5.],\n",
       "        [ 5.,  1.,  1.,  1.,  1.,  1.,  1.,  5.,  5.,  5.,  5.],\n",
       "        [ 1.,  1.,  1.,  1.,  1.,  1.,  1.,  5.,  5.,  5.,  5.],\n",
       "        [ 1.,  1.,  1.,  1.,  1.,  1.,  1.,  5.,  5.,  5.,  5.],\n",
       "        [ 1.,  1.,  1.,  1.,  1.,  1.,  5.,  5.,  5.,  5.,  5.]])}"
      ]
     },
     "execution_count": 7,
     "metadata": {},
     "output_type": "execute_result"
    }
   ],
   "source": [
    "dic"
   ]
  },
  {
   "cell_type": "code",
   "execution_count": 10,
   "metadata": {},
   "outputs": [
    {
     "data": {
      "text/plain": [
       "array([ 0.3,  0.3,  0.3,  0.3,  0.3,  0.3,  0.3,  0.3,  0.3,  0.3,  0.3])"
      ]
     },
     "execution_count": 10,
     "metadata": {},
     "output_type": "execute_result"
    }
   ],
   "source": [
    "dic['a_krz'][5]"
   ]
  },
  {
   "cell_type": "code",
   "execution_count": 25,
   "metadata": {
    "collapsed": true
   },
   "outputs": [],
   "source": [
    "spinl,ll,lb,ub=np.loadtxt('range.txt',unpack=True)"
   ]
  },
  {
   "cell_type": "code",
   "execution_count": 26,
   "metadata": {},
   "outputs": [
    {
     "data": {
      "text/plain": [
       "array([ 0.3 ,  0.35,  0.4 ,  0.45,  0.5 ,  0.55,  0.6 ,  0.65,  0.7 ,\n",
       "        0.75,  0.8 ,  0.85,  0.9 ,  0.95])"
      ]
     },
     "execution_count": 26,
     "metadata": {},
     "output_type": "execute_result"
    }
   ],
   "source": [
    "spinl"
   ]
  },
  {
   "cell_type": "code",
   "execution_count": 29,
   "metadata": {
    "collapsed": true
   },
   "outputs": [],
   "source": [
    "slp=np.zeros(len(spinl))\n",
    "for i in np.arange(len(spinl)):\n",
    "    dicind=i+5\n",
    "    x=[]\n",
    "    y=[]\n",
    "    for j in np.arange(len(dic['d1_krz'][dicind])):\n",
    "        if dic['d1_krz'][dicind][j]>=lb[i] and dic['d1_krz'][dicind][j]<=ub[i]:\n",
    "            x.append(dic['d1_krz'][dicind][j]); y.append(dic['a_kerr'][dicind][j])\n",
    "    slp[i]=(np.polyfit(x,y,1)[0])\n"
   ]
  },
  {
   "cell_type": "code",
   "execution_count": 32,
   "metadata": {},
   "outputs": [
    {
     "data": {
      "text/plain": [
       "[<matplotlib.lines.Line2D at 0x2e7d51e27f0>]"
      ]
     },
     "execution_count": 32,
     "metadata": {},
     "output_type": "execute_result"
    },
    {
     "data": {
      "image/png": "[encoded data removed]",
      "text/plain": [
       "<matplotlib.figure.Figure at 0x2e7d519f160>"
      ]
     },
     "metadata": {
      "needs_background": "light"
     },
     "output_type": "display_data"
    }
   ],
   "source": [
    "plt.plot(spinl,(1-spinl)/slp)"
   ]
  },
  {
   "cell_type": "code",
   "execution_count": 39,
   "metadata": {
    "collapsed": true
   },
   "outputs": [],
   "source": [
    "ub=(1-spinl)/slp"
   ]
  },
  {
   "cell_type": "code",
   "execution_count": 78,
   "metadata": {},
   "outputs": [
    {
     "data": {
      "image/png": "[encoded data removed]",
      "text/plain": [
       "<matplotlib.figure.Figure at 0x2e7d826aef0>"
      ]
     },
     "metadata": {
      "needs_background": "light"
     },
     "output_type": "display_data"
    }
   ],
   "source": [
    "plt.figure(figsize=[8,6])\n",
    "plt.plot(spinl,ub,'kx--')\n",
    "plt.plot(spinl,lb,'k^--')\n",
    "plt.xlim(0.3,0.95)\n",
    "plt.ylim(-1,1)\n",
    "plt.fill_between(spinl,np.zeros(14)+1,facecolor='r',label='$a_{Kerr}>1.0$')\n",
    "plt.fill_between(spinl,ub,facecolor='blue',label='confusion')\n",
    "\n",
    "plt.fill_between(spinl,np.zeros(14)-1,facecolor='yellow',label='orbit not exist')\n",
    "plt.fill_between(spinl,lb,facecolor='blue')\n",
    "plt.xlabel('$a_{KRZ}$',fontsize=16)\n",
    "plt.ylabel('$\\delta_1$',fontsize=16)\n",
    "plt.text(0.35,0.3,'$e=0.5 $\\n$ p=6.0$ \\n$M=2\\\\times 10^5 M_\\odot$',fontsize=16)\n",
    "plt.legend(fontsize=16)\n",
    "plt.savefig('2d_bound.png',dpi=200)"
   ]
  },
  {
   "cell_type": "code",
   "execution_count": 63,
   "metadata": {},
   "outputs": [
    {
     "data": {
      "text/plain": [
       "array([ 1.04878003,  0.96166003,  0.87992413,  0.84228753,  0.84894796,\n",
       "        0.76622389,  0.71693049,  0.66507553,  0.60492919,  0.52020361,\n",
       "        0.46556394,  0.38196259,  0.27926708,  0.16349081])"
      ]
     },
     "execution_count": 63,
     "metadata": {},
     "output_type": "execute_result"
    }
   ],
   "source": [
    "ub"
   ]
  },
  {
   "cell_type": "code",
   "execution_count": 1,
   "metadata": {
    "collapsed": true
   },
   "outputs": [],
   "source": [
    "#delta 2"
   ]
  },
  {
   "cell_type": "code",
   "execution_count": 2,
   "metadata": {
    "collapsed": true
   },
   "outputs": [],
   "source": [
    "import numpy as np\n",
    "import matplotlib.pyplot as plt"
   ]
  },
  {
   "cell_type": "code",
   "execution_count": 9,
   "metadata": {
    "collapsed": true
   },
   "outputs": [],
   "source": [
    "spinl=[ 0.3 ,  0.35,  0.4 ,  0.45,  0.5 ,  0.55,  0.6 ,  0.65,  0.7 , 0.75,  0.8 ,  0.85,  0.9 ,  0.95]\n",
    "lb=   [ -0.04,-0.04,-0.06,-0.1   , -0.14, -0.18, -0.22, -0.28, -0.36, -0.44,-0.56, -0.72, -0.94, -1.05]"
   ]
  },
  {
   "cell_type": "code",
   "execution_count": 4,
   "metadata": {
    "collapsed": true
   },
   "outputs": [],
   "source": [
    "spinl,ll,lb,ub=np.loadtxt('range_d2.txt',unpack=True)"
   ]
  },
  {
   "cell_type": "code",
   "execution_count": 5,
   "metadata": {
    "collapsed": true
   },
   "outputs": [],
   "source": [
    "import pickle\n",
    "dic=pickle.load(open('firstana_d2.p','rb'))"
   ]
  },
  {
   "cell_type": "code",
   "execution_count": 7,
   "metadata": {},
   "outputs": [],
   "source": [
    "slp=np.zeros(len(spinl))\n",
    "for i in np.arange(len(spinl)):\n",
    "    dicind=i+5\n",
    "    x=[]\n",
    "    y=[]\n",
    "    for j in np.arange(len(dic['d2_krz'][dicind])):\n",
    "        if dic['d2_krz'][dicind][j]>=lb[i] and dic['d2_krz'][dicind][j]<=ub[i]:\n",
    "            x.append(dic['d2_krz'][dicind][j]); y.append(dic['a_kerr'][dicind][j])\n",
    "    slp[i]=(np.polyfit(x,y,1)[0])\n"
   ]
  },
  {
   "cell_type": "code",
   "execution_count": 8,
   "metadata": {
    "collapsed": true
   },
   "outputs": [],
   "source": [
    "ub=(1-spinl)/slp"
   ]
  },
  {
   "cell_type": "code",
   "execution_count": 11,
   "metadata": {},
   "outputs": [
    {
     "data": {
      "image/png": "[encoded data removed]",
      "text/plain": [
       "<matplotlib.figure.Figure at 0x1c9d0ae8240>"
      ]
     },
     "metadata": {
      "needs_background": "light"
     },
     "output_type": "display_data"
    }
   ],
   "source": [
    "plt.figure(figsize=[8,6])\n",
    "plt.plot(spinl,ub,'kx--')\n",
    "plt.plot(spinl,lb,'k^--')\n",
    "plt.xlim(0.3,0.95)\n",
    "plt.ylim(-1,1)\n",
    "plt.fill_between(spinl,np.zeros(14)+1,facecolor='r',label='$a_{Kerr}>1.0$')\n",
    "plt.fill_between(spinl,ub,facecolor='blue',label='confusion')\n",
    "\n",
    "plt.fill_between(spinl,np.zeros(14)-1,facecolor='yellow',label='orbit not exist')\n",
    "plt.fill_between(spinl,lb,facecolor='blue')\n",
    "plt.xlabel('$a_{KRZ}$',fontsize=16)\n",
    "plt.ylabel('$\\delta_2$',fontsize=16)\n",
    "plt.text(0.35,0.1,'$e=0.5 $\\n$ p=6.0$ \\n$M=2\\\\times 10^5 M_\\odot$',fontsize=16)\n",
    "plt.legend(fontsize=16)\n",
    "plt.savefig('2d_bound_d2.png',dpi=200)"
   ]
  },
  {
   "cell_type": "code",
   "execution_count": null,
   "metadata": {
    "collapsed": true
   },
   "outputs": [],
   "source": []
  }
 ],
 "metadata": {
  "kernelspec": {
   "display_name": "Python 3",
   "language": "python",
   "name": "python3"
  },
  "language_info": {
   "codemirror_mode": {
    "name": "ipython",
    "version": 3
   },
   "file_extension": ".py",
   "mimetype": "text/x-python",
   "name": "python",
   "nbconvert_exporter": "python",
   "pygments_lexer": "ipython3",
   "version": "3.6.3"
  }
 },
 "nbformat": 4,
 "nbformat_minor": 2
}
