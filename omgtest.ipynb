{
 "cells": [
  {
   "cell_type": "code",
   "execution_count": 1,
   "metadata": {
    "collapsed": true
   },
   "outputs": [],
   "source": [
    "import numpy as np\n",
    "from KRZmetric import *\n",
    "import scipy"
   ]
  },
  {
   "cell_type": "code",
   "execution_count": 29,
   "metadata": {},
   "outputs": [
    {
     "name": "stdout",
     "output_type": "stream",
     "text": [
      "[0.032985849314393766, 0.065797814157376233]\n"
     ]
    }
   ],
   "source": [
    "spin=0.5\n",
    "e=0.01\n",
    "p=6\n",
    "\n",
    "rmax=p/(1-e)\n",
    "rmin=p/(1+e)\n",
    "invgmin=metric_KRZ_inverse(spin,0,rmin,np.pi/2)\n",
    "invgmax=metric_KRZ_inverse(spin,0,rmax,np.pi/2)\n",
    "\n",
    "EoverL = ((invgmax[3][0] - invgmin[3][0]) + sqrt((invgmax[3][0] - invgmin[3][0]) *(invgmax[3][0] - invgmin[3][0]) - (invgmax[0][0] - invgmin[0][0])*(invgmax[3][3] - invgmin[3][3]))) / ( invgmax[0][0]-invgmin[0][0] );\n",
    "Lz = sqrt( (invgmax[3][0]-invgmin[3][0]) / ( EoverL*EoverL*( invgmin[3][0]*invgmax[0][0] - invgmax[3][0]*invgmin[0][0] )+ ( invgmin[3][0]*invgmax[3][3]- invgmax[3][0]*invgmin[3][3] )  )   );\n",
    "E=Lz*EoverL\n",
    "x=Lz-spin*E\n",
    "\n",
    "dchi=1e-6\n",
    "chi=np.linspace(dchi/2,np.pi-dchi/2,int(np.pi/dchi))\n",
    "J=1-2*(1+e*np.cos(chi))/p+spin**2/p**2*(1+e*np.cos(chi))**2\n",
    "Vr=x**2+spin**2+2*spin*x*E-2*x**2/p*(3+e*np.cos(chi))\n",
    "Vphi=x+spin*E-2*x/p*(1+e*cos(chi))\n",
    "Vt=spin**2*E-2*spin*x/p*(1+e*np.cos(chi)) + E*p**2/(1+e*np.cos(chi))**2\n",
    "\n",
    "Tr=2*np.sum(Vt/J/np.sqrt(Vr))*dchi\n",
    "Dphi=2*np.sum(Vphi/J/np.sqrt(Vr))*dchi\n",
    "omg_rdt=2*np.pi/Tr\n",
    "omg_phidt=Dphi/Tr\n",
    "\n",
    "print([omg_rdt,omg_phidt])"
   ]
  },
  {
   "cell_type": "code",
   "execution_count": 30,
   "metadata": {
    "collapsed": true
   },
   "outputs": [],
   "source": [
    "def Tr_int(chi,spin,e,p):\n",
    "    rmax=p/(1-e)\n",
    "    rmin=p/(1+e)\n",
    "    invgmin=metric_KRZ_inverse(spin,0,rmin,np.pi/2)\n",
    "    invgmax=metric_KRZ_inverse(spin,0,rmax,np.pi/2)\n",
    "\n",
    "    EoverL = ((invgmax[3][0] - invgmin[3][0]) + sqrt((invgmax[3][0] - invgmin[3][0]) *(invgmax[3][0] - invgmin[3][0]) - (invgmax[0][0] - invgmin[0][0])*(invgmax[3][3] - invgmin[3][3]))) / ( invgmax[0][0]-invgmin[0][0] );\n",
    "    Lz = sqrt( (invgmax[3][0]-invgmin[3][0]) / ( EoverL*EoverL*( invgmin[3][0]*invgmax[0][0] - invgmax[3][0]*invgmin[0][0] )+ ( invgmin[3][0]*invgmax[3][3]- invgmax[3][0]*invgmin[3][3] )  )   );\n",
    "    E=Lz*EoverL\n",
    "    x=Lz-spin*E\n",
    "    J=1-2*(1+e*np.cos(chi))/p+spin**2/p**2*(1+e*np.cos(chi))**2\n",
    "    Vr=x**2+spin**2+2*spin*x*E-2*x**2/p*(3+e*np.cos(chi))\n",
    "    Vphi=x+spin*E-2*x/p*(1+e*cos(chi))\n",
    "    Vt=spin**2*E-2*spin*x/p*(1+e*np.cos(chi)) + E*p**2/(1+e*np.cos(chi))**2\n",
    "\n",
    "    Tr_=2*Vt/J/np.sqrt(Vr)\n",
    "    return Tr_"
   ]
  },
  {
   "cell_type": "code",
   "execution_count": 31,
   "metadata": {
    "collapsed": true
   },
   "outputs": [],
   "source": [
    "def Dphi_int(chi,spin,e,p):\n",
    "    rmax=p/(1-e)\n",
    "    rmin=p/(1+e)\n",
    "    invgmin=metric_KRZ_inverse(spin,0,rmin,np.pi/2)\n",
    "    invgmax=metric_KRZ_inverse(spin,0,rmax,np.pi/2)\n",
    "\n",
    "    EoverL = ((invgmax[3][0] - invgmin[3][0]) + sqrt((invgmax[3][0] - invgmin[3][0]) *(invgmax[3][0] - invgmin[3][0]) - (invgmax[0][0] - invgmin[0][0])*(invgmax[3][3] - invgmin[3][3]))) / ( invgmax[0][0]-invgmin[0][0] );\n",
    "    Lz = sqrt( (invgmax[3][0]-invgmin[3][0]) / ( EoverL*EoverL*( invgmin[3][0]*invgmax[0][0] - invgmax[3][0]*invgmin[0][0] )+ ( invgmin[3][0]*invgmax[3][3]- invgmax[3][0]*invgmin[3][3] )  )   );\n",
    "    E=Lz*EoverL\n",
    "    x=Lz-spin*E\n",
    "    J=1-2*(1+e*np.cos(chi))/p+spin**2/p**2*(1+e*np.cos(chi))**2\n",
    "    Vr=x**2+spin**2+2*spin*x*E-2*x**2/p*(3+e*np.cos(chi))\n",
    "    Vphi=x+spin*E-2*x/p*(1+e*cos(chi))\n",
    "    Vt=spin**2*E-2*spin*x/p*(1+e*np.cos(chi)) + E*p**2/(1+e*np.cos(chi))**2\n",
    "\n",
    "    Dp_=2*Vphi/J/np.sqrt(Vr)\n",
    "    return Dp_"
   ]
  },
  {
   "cell_type": "code",
   "execution_count": 32,
   "metadata": {},
   "outputs": [],
   "source": [
    "myTr,err=scipy.integrate.quad(Tr_int,0,np.pi,args=(spin,e,p))"
   ]
  },
  {
   "cell_type": "code",
   "execution_count": 33,
   "metadata": {},
   "outputs": [
    {
     "data": {
      "text/plain": [
       "190.48127439355355"
      ]
     },
     "execution_count": 33,
     "metadata": {},
     "output_type": "execute_result"
    }
   ],
   "source": [
    "myTr"
   ]
  },
  {
   "cell_type": "code",
   "execution_count": 34,
   "metadata": {},
   "outputs": [
    {
     "data": {
      "text/plain": [
       "190.48123476504952"
      ]
     },
     "execution_count": 34,
     "metadata": {},
     "output_type": "execute_result"
    }
   ],
   "source": [
    "Tr"
   ]
  },
  {
   "cell_type": "code",
   "execution_count": 35,
   "metadata": {},
   "outputs": [],
   "source": [
    "myDphi,err=scipy.integrate.quad(Dphi_int,0,np.pi,args=(spin,e,p))"
   ]
  },
  {
   "cell_type": "code",
   "execution_count": 36,
   "metadata": {},
   "outputs": [
    {
     "data": {
      "text/plain": [
       "12.533251493007219"
      ]
     },
     "execution_count": 36,
     "metadata": {},
     "output_type": "execute_result"
    }
   ],
   "source": [
    "myDphi"
   ]
  },
  {
   "cell_type": "code",
   "execution_count": 37,
   "metadata": {},
   "outputs": [
    {
     "data": {
      "text/plain": [
       "12.533248885538281"
      ]
     },
     "execution_count": 37,
     "metadata": {},
     "output_type": "execute_result"
    }
   ],
   "source": [
    "Dphi"
   ]
  },
  {
   "cell_type": "code",
   "execution_count": 2,
   "metadata": {
    "collapsed": true
   },
   "outputs": [],
   "source": [
    "e=0.5\n",
    "p=6\n",
    "spin=0.5\n"
   ]
  },
  {
   "cell_type": "code",
   "execution_count": 3,
   "metadata": {},
   "outputs": [
    {
     "data": {
      "text/plain": [
       "(0.02493744335359075, 0.05232063864714793)"
      ]
     },
     "execution_count": 3,
     "metadata": {},
     "output_type": "execute_result"
    }
   ],
   "source": [
    "getfreq_dt_fromepa(e,p,spin)"
   ]
  },
  {
   "cell_type": "code",
   "execution_count": 4,
   "metadata": {},
   "outputs": [
    {
     "data": {
      "text/plain": [
       "(0.024937448541679084, 0.052320638647147005)"
      ]
     },
     "execution_count": 4,
     "metadata": {},
     "output_type": "execute_result"
    }
   ],
   "source": [
    "getfreq_dt_fromepa_npsum(e,p,spin)"
   ]
  },
  {
   "cell_type": "code",
   "execution_count": 6,
   "metadata": {},
   "outputs": [],
   "source": [
    "\n",
    "d1=0\n",
    "filename='C:\\\\Users\\\\HP\\\\Documents\\\\Visual Studio 2015\\\\Projects\\\\RK4geo8_dt\\\\RK4geo8_dt\\\\trace_spin%.6f_d1%.6f_e%.6f_p%.6f.dat'%(spin,d1,e,p)\n",
    "index, tau,t,r,th,phi,ut,ur,uth,uphi,F_t,F_r,F_th,F_phi=np.loadtxt(filename,unpack=True)\n",
    "\n",
    "\n",
    "avgomg=getfreq_dt_frommaxi(t,r,phi)"
   ]
  },
  {
   "cell_type": "code",
   "execution_count": 7,
   "metadata": {},
   "outputs": [
    {
     "data": {
      "text/plain": [
       "(0.024937605440489216, 0.052320850391043436)"
      ]
     },
     "execution_count": 7,
     "metadata": {},
     "output_type": "execute_result"
    }
   ],
   "source": [
    "avgomg"
   ]
  },
  {
   "cell_type": "code",
   "execution_count": null,
   "metadata": {
    "collapsed": true
   },
   "outputs": [],
   "source": []
  }
 ],
 "metadata": {
  "kernelspec": {
   "display_name": "Python 3",
   "language": "python",
   "name": "python3"
  },
  "language_info": {
   "codemirror_mode": {
    "name": "ipython",
    "version": 3
   },
   "file_extension": ".py",
   "mimetype": "text/x-python",
   "name": "python",
   "nbconvert_exporter": "python",
   "pygments_lexer": "ipython3",
   "version": "3.6.3"
  }
 },
 "nbformat": 4,
 "nbformat_minor": 2
}
