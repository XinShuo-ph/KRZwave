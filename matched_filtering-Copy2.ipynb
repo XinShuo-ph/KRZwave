{
 "cells": [
  {
   "cell_type": "code",
   "execution_count": 3,
   "metadata": {
    "collapsed": true
   },
   "outputs": [],
   "source": [
    "#Match filtering , 信烁\n",
    "import numpy as np\n",
    "from scipy.interpolate import interp1d\n",
    "from numpy import cos,sin\n"
   ]
  },
  {
   "cell_type": "code",
   "execution_count": 14,
   "metadata": {
    "collapsed": true
   },
   "outputs": [],
   "source": [
    "def bracket(mydata,mytemp,dt,fnoise=[-1,-1],Snoise=[-1,-1]):\n",
    "#算mydata和mytemp的内积\n",
    "#fnoise-Snoise是噪声的功率谱\n",
    "    \n",
    "    #两个时间序列长度要一样，不一样就取最小的\n",
    "    if len(mydata) != len(mytemp):\n",
    "        print(\"inner product: length not match!\")\n",
    "\n",
    "    #采样频率\n",
    "    fs=1/dt\n",
    "\n",
    "    #做傅里叶变换，注意要除以采样频率才是真的amplitude\n",
    "    mydata_fft=np.fft.fft(mydata)/fs\n",
    "    mytemp_fft=np.fft.fft(mytemp)/fs\n",
    "    #变换后的频率序列,注意，只有前一半是正的频率\n",
    "    freq=np.fft.fftfreq(min( len(mydata),len(mytemp)),dt)\n",
    "    \n",
    "    #默认为LISA noise\n",
    "    if fnoise[0]==-1:\n",
    "        ##########LISA noise, reference: https://arxiv.org/abs/gr-qc/0607007v2\n",
    "        u=2*np.pi*freq*50/3 #见reference（36）上面一段\n",
    "        Sn=[]  #LISA noise\n",
    "        for i in np.arange(freq.size/2):\n",
    "            i=int(i)\n",
    "            if i==0:\n",
    "                Sn.append(1e10)\n",
    "            elif(u[i]<0.25):\n",
    "                Sn.append(8.08e-48/((2*np.pi*freq[i])**4) +5.52e-41 )\n",
    "            else :\n",
    "                Sn.append( (2.88e-48/((2*np.pi*freq[i])**4) +5.52e-41 ) *u[i]*u[i]/ ( (1+cos(u[i])*cos(u[i]) )*(1.0/3.0-2.0/u[i]/u[i]) + sin(u[i])**2 + 4*sin(u[i])*cos(u[i])/(u[i]**3) ) )\n",
    "\n",
    "    else:\n",
    "        try:#如果输入了噪声功率谱,先直接interpolate\n",
    "            noisefit=interp1d(fnoise,Snoise)\n",
    "            Sn=noisefit(freq[0:int(freq.size/2)])#如果输入的范围不够在这行会报错\n",
    "            \n",
    "        except:#如果报错说明输入的功率谱范围覆盖不了信号傅里叶变换后的功率谱，那么把输入功率谱的左右两侧用直线外推\n",
    "            leftfit=np.poly1d(np.polyfit(fnoise[0:int(freq.size/8)],Snoise[0:int(freq.size/8)],1))\n",
    "            rightfit=np.poly1d(np.polyfit(fnoise[int(freq.size/2)-int(freq.size/8):int(freq.size/2)],Snoise[int(freq.size/2)-int(freq.size/8):int(freq.size/2)],1))\n",
    "            Sn=[]\n",
    "            for i in np.arange(int(freq.size/2)):\n",
    "                if freq[i]<fnoise[0]:\n",
    "                    Sn.append(leftfit(freq[i]))\n",
    "                elif freq[i]>fnoise[-1]:\n",
    "                    Sn.append(rightfit(freq[i]))\n",
    "                else:\n",
    "                    Sn.append(noisefit(freq[i]))\n",
    "                    \n",
    "    ###########SNR\n",
    "    SNR=0\n",
    "    df=freq[1]-freq[0]\n",
    "    for i in np.arange(int(freq.size/2)):\n",
    "        i=int(i)\n",
    "        SNR=SNR+(( mydata_fft[i]*np.conjugate(mytemp_fft[i]) + np.conjugate(mydata_fft[i])*mytemp_fft[i])/(Sn[i]))*df\n",
    "    \n",
    "    return np.abs(SNR)"
   ]
  },
  {
   "cell_type": "code",
   "execution_count": 9,
   "metadata": {},
   "outputs": [],
   "source": []
  },
  {
   "cell_type": "code",
   "execution_count": 5,
   "metadata": {},
   "outputs": [
    {
     "name": "stdout",
     "output_type": "stream",
     "text": [
      "13 0.97\n"
     ]
    }
   ],
   "source": [
    "#read GW data, see Gwave.ipynb for details\n",
    "spin=0.5;\n",
    "d1=0.5;\n",
    "\n",
    "#Observation angle, will be used to transform hbar to hTT \n",
    "PHI=0/180*np.pi  #azimuthal angle, in rad\n",
    "THETA=45/180*np.pi  #latitude angle, in rad\n",
    "\n",
    "r0=13\n",
    "E=0.97\n",
    "Lz=4.077016\n",
    "\n",
    "print(r0,E)\n",
    "try:\n",
    "    index, tau,t,r,th,phi,ut,ur,uth,uphi,F_t,F_r,F_th,F_phi=np.loadtxt \\\n",
    "('C:\\\\Users\\\\HP\\\\Documents\\\\Visual Studio 2015\\\\Projects\\\\RK4geo8_dt\\\\RK4geo8_dt\\\n",
    "\\\\trace_spin%.6f_d1%.6f_r0%.6f_E%.6f.dat'%(spin,d1,r0,E),unpack=True)\n",
    "except:\n",
    "    print('trace_spin%.6f_d1%.6f_r0%.6f_E%.6f.dat  does not exist'%(spin,d1,r0,E))\n",
    "    quit()\n",
    "\n",
    "#qseudo_flat spacetime\n",
    "x=[];\n",
    "y=[];\n",
    "z=[];\n",
    "t_tau_dot=[]\n",
    "z_tau_dot=[]\n",
    "y_tau_dot=[]\n",
    "x_tau_dot=[]\n",
    "z_t_dot=[]\n",
    "y_t_dot=[]\n",
    "x_t_dot=[]\n",
    "vr_tau_dot=[]\n",
    "vth_tau_dot=[]\n",
    "vphi_tau_dot=[]\n",
    "vx_tau_dot=[]\n",
    "vy_tau_dot=[]\n",
    "vz_tau_dot=[]\n",
    "x_t_2dot=[]\n",
    "y_t_2dot=[]\n",
    "z_t_2dot=[]\n",
    "\n",
    "\n",
    "for i in np.arange(index.size):\n",
    "    x.append(r[i]*np.sin(th[i])*np.cos(phi[i]));\n",
    "    y.append(r[i]*np.sin(th[i])*np.sin(phi[i]));\n",
    "    z.append(r[i]*np.cos(th[i]));\n",
    "    t_tau_dot.append(ut[i])\n",
    "    x_tau_dot.append(ur[i]*np.sin(th[i])*np.cos(phi[i]) + r[i]*np.cos(th[i])*np.cos(phi[i])*uth[i] - r[i]*np.sin(th[i])*np.sin(phi[i])*uphi[i] )\n",
    "    y_tau_dot.append(ur[i]*np.sin(th[i])*np.sin(phi[i]) + r[i]*np.cos(th[i])*np.sin(phi[i])*uth[i] + r[i]*np.sin(th[i])*np.cos(phi[i])*uphi[i] )\n",
    "    z_tau_dot.append(ur[i]*np.cos(th[i]) - r[i]*np.sin(th[i])*uth[i])\n",
    "    x_t_dot.append(x_tau_dot[i]/t_tau_dot[i])\n",
    "    y_t_dot.append(y_tau_dot[i]/t_tau_dot[i])\n",
    "    z_t_dot.append(z_tau_dot[i]/t_tau_dot[i])\n",
    "    \n",
    "    vr_tau_dot.append( (F_r[i]*t_tau_dot[i]-ur[i]*F_t[i])/t_tau_dot[i]/t_tau_dot[i] )\n",
    "    vth_tau_dot.append( (F_th[i]*t_tau_dot[i]-uth[i]*F_t[i])/t_tau_dot[i]/t_tau_dot[i] )\n",
    "    vphi_tau_dot.append( (F_phi[i]*t_tau_dot[i]-uphi[i]*F_t[i])/t_tau_dot[i]/t_tau_dot[i] )\n",
    "    \n",
    "    vx_tau_dot.append( vr_tau_dot[i]*np.sin(th[i])*np.cos(phi[i]) + ur[i]/ut[i]*np.cos(th[i])*np.cos(phi[i])*uth[i] - ur[i]/ut[i]*np.sin(th[i])*np.sin(phi[i])*uphi[i]\\\n",
    "         + ur[i]*cos(th[i])*cos(phi[i])*uth[i]/ut[i] - r[i]*sin(th[i])*cos(phi[i])*uth[i]/ut[i]*uth[i] -r[i]*cos(th[i])*sin(phi[i])*uth[i]/ut[i]*uphi[i] +r[i]*cos(th[i])*cos(phi[i])*vth_tau_dot[i]  \\\n",
    "         - ur[i]*sin(th[i])*sin(phi[i])*uphi[i]/ut[i] - r[i]*cos(th[i])*sin(phi[i])*uphi[i]/ut[i]*uth[i] - r[i]*sin(th[i])*cos(phi[i])*uphi[i]/ut[i]*uphi[i] - r[i]*sin(th[i])*sin(phi[i])*vphi_tau_dot[i])\n",
    "    \n",
    "    vy_tau_dot.append( vr_tau_dot[i]*np.sin(th[i])*np.sin(phi[i]) + ur[i]/ut[i]*np.cos(th[i])*np.sin(phi[i])*uth[i] + ur[i]/ut[i]*np.sin(th[i])*np.cos(phi[i])*uphi[i]\\\n",
    "         + ur[i]*cos(th[i])*sin(phi[i])*uth[i]/ut[i] - r[i]*sin(th[i])*sin(phi[i])*uth[i]/ut[i]*uth[i] +r[i]*cos(th[i])*cos(phi[i])*uth[i]/ut[i]*uphi[i] +r[i]*cos(th[i])*sin(phi[i])*vth_tau_dot[i]  \\\n",
    "         + ur[i]*sin(th[i])*cos(phi[i])*uphi[i]/ut[i] + r[i]*cos(th[i])*cos(phi[i])*uphi[i]/ut[i]*uth[i] - r[i]*sin(th[i])*sin(phi[i])*uphi[i]/ut[i]*uphi[i] + r[i]*sin(th[i])*cos(phi[i])*vphi_tau_dot[i])\n",
    "    \n",
    "    vz_tau_dot.append( vr_tau_dot[i]*cos(th[i]) -ur[i]/ut[i]*sin(th[i])*uth[i] \\\n",
    "                     -ur[i]*sin(th[i])*uth[i]/ut[i] -r[i]*cos(th[i])*uth[i]/ut[i]*uth[i] - r[i]*sin(th[i])*vth_tau_dot[i] )\n",
    "    \n",
    "    x_t_2dot.append(vx_tau_dot[i]/ut[i])\n",
    "    y_t_2dot.append(vy_tau_dot[i]/ut[i])\n",
    "    z_t_2dot.append(vz_tau_dot[i]/ut[i])\n",
    "    \n",
    "#四极矩算法，在trace-reversed gauge的metric\n",
    "\n",
    "hbar_xx=[]\n",
    "hbar_yy=[]\n",
    "hbar_zz=[]\n",
    "hbar_xy=[]\n",
    "hbar_yz=[]\n",
    "hbar_xz=[]\n",
    "for i in np.arange(index.size):\n",
    "    hbar_xx.append(4*(x_t_dot[i]*x_t_dot[i]+x[i]*x_t_2dot[i]))\n",
    "    hbar_yy.append(4*(y_t_dot[i]*y_t_dot[i]+y[i]*y_t_2dot[i]))\n",
    "    hbar_zz.append(4*(z_t_dot[i]*z_t_dot[i]+z[i]*z_t_2dot[i]))\n",
    "    hbar_xy.append(2*(y[i]*x_t_2dot[i]+y_t_2dot[i]*x[i]+2*y_t_dot[i]*x_t_dot[i]))\n",
    "    hbar_yz.append(2*(y[i]*z_t_2dot[i]+y_t_2dot[i]*z[i]+2*y_t_dot[i]*z_t_dot[i]))\n",
    "    hbar_xz.append(2*(z[i]*x_t_2dot[i]+z_t_2dot[i]*x[i]+2*z_t_dot[i]*x_t_dot[i]))\n",
    "    \n",
    "#由trace-reversed gauge转换到transverse traceless gauge\n",
    "\n",
    "hTT_TT=[]\n",
    "hTT_PP=[]\n",
    "hTT_TP=[]\n",
    "hTT_plus=[]\n",
    "hTT_cross=[]\n",
    "\n",
    "for i in np.arange(index.size):\n",
    "    \n",
    "    \n",
    "    hTT_TT.append( np.cos(THETA)*np.cos(THETA)* (hbar_xx[i]*np.cos(PHI)*np.cos(PHI) + hbar_xy[i]*np.sin(2*PHI) + hbar_yy[i]*np.sin(PHI)*np.sin(PHI) )  +  hbar_zz[i]*np.sin(THETA)*np.sin(THETA)  -  np.sin(2*THETA)* (hbar_xz[i]*np.cos(PHI)+hbar_yz[i]*np.sin(PHI))  )\n",
    "    hTT_TP.append( np.cos(THETA)* (-0.5*hbar_xx[i]*np.sin(2*PHI) + hbar_xy[i]*np.cos(2*PHI) + 0.5*hbar_yy[i]*np.sin(2*PHI))  +  np.sin(THETA)* (hbar_xz[i]*np.sin(PHI)-hbar_yz[i]*np.cos(PHI)) )\n",
    "    hTT_PP.append( hbar_xx[i]*np.sin(PHI)*np.sin(PHI)  -  hbar_xy[i]*np.sin(2*PHI)  +  hbar_yy[i]*np.cos(PHI)*np.cos(PHI) )\n",
    "    hTT_plus.append(0.5*(hTT_TT[i]-hTT_PP[i]))\n",
    "    hTT_cross.append(hTT_TP[i])\n",
    "    \n"
   ]
  },
  {
   "cell_type": "code",
   "execution_count": 6,
   "metadata": {
    "collapsed": true
   },
   "outputs": [],
   "source": [
    "#注意上面算出来的h还要*mu（mass ratio）/R（观测距离，也以M为单位）才是真的strain\n",
    "#发现一个小问题，上面定义的数据类型大部分都是list，但是array才比较好用\n",
    "#还要注意一点几何单位制和SI单位的转换\n",
    "\n",
    "########转换单位\n",
    "Grav=6.674e-11 #引力常数\n",
    "clight=2.998e8 #光速\n",
    "Msol=1.989e30  #太阳质量，以千克做单位\n",
    "\n",
    "M=1e6 # clight*clight*clight/Grav/Msol/1 #中心天体质量，以太阳质量为单位\n",
    "\n",
    "#把时间转换成秒\n",
    "t_sec=t*M*Msol*Grav/clight/clight/clight\n",
    "dt=t_sec[1]-t_sec[0]\n",
    "\n",
    "#把pc距离转换成M为单位\n",
    "R_pc=5e9  #以pc为单位的观测距离\n",
    "R=R_pc*3.0857e16*clight*clight/Grav/M/Msol  #以中心天体质量为单位的，长度米与中心天体质量的换算是 1m/kg = clight*clight/G\n",
    "\n",
    "#小天体的质量\n",
    "mu=1e-5 #应该是以中心天体质量为单位的\n",
    "\n",
    "hTT_plus_true=np.array(hTT_plus)*mu/R\n",
    "hTT_cross_true=np.array(hTT_cross)*mu/R\n",
    "\n",
    "########用于计算的波形，plus作为实部，cross作为虚部\n",
    "mydata=hTT_plus_true+1j*hTT_cross_true\n",
    "\n",
    "#采样频率\n",
    "fs=1/dt\n",
    "\n",
    "#做傅里叶变换，注意要除以采样频率才是真的amplitude\n",
    "mytemp_fft=np.fft.fft(mydata)/fs\n",
    "\n",
    "#变换后的频率序列,注意，只有前一半是正的频率\n",
    "freq=np.fft.fftfreq(len(mydata),dt)"
   ]
  },
  {
   "cell_type": "code",
   "execution_count": 7,
   "metadata": {},
   "outputs": [
    {
     "data": {
      "text/plain": [
       "100001"
      ]
     },
     "execution_count": 7,
     "metadata": {},
     "output_type": "execute_result"
    }
   ],
   "source": [
    "len(mydata)"
   ]
  },
  {
   "cell_type": "code",
   "execution_count": 12,
   "metadata": {},
   "outputs": [
    {
     "data": {
      "text/plain": [
       "0.0093624867577151022"
      ]
     },
     "execution_count": 12,
     "metadata": {},
     "output_type": "execute_result"
    }
   ],
   "source": [
    "bracket(mydata,mydata,dt)"
   ]
  },
  {
   "cell_type": "code",
   "execution_count": 10,
   "metadata": {},
   "outputs": [],
   "source": [
    "\n",
    "\n",
    "u=2*np.pi*freq*50/3 #见reference（36）上面一段\n",
    "Sn=[]  #LISA noise\n",
    "for i in np.arange(freq.size/2):\n",
    "    i=int(i)\n",
    "    if i==0:\n",
    "        Sn.append(1e10)\n",
    "    elif(u[i]<0.25):\n",
    "        Sn.append(8.08e-48/((2*np.pi*freq[i])**4) +5.52e-41 )\n",
    "    else :\n",
    "        Sn.append( (2.88e-48/((2*np.pi*freq[i])**4) +5.52e-41 ) *u[i]*u[i]/ ( (1+cos(u[i])*cos(u[i]) )*(1.0/3.0-2.0/u[i]/u[i]) + sin(u[i])**2 + 4*sin(u[i])*cos(u[i])/(u[i]**3) ) )\n"
   ]
  },
  {
   "cell_type": "code",
   "execution_count": 11,
   "metadata": {},
   "outputs": [
    {
     "data": {
      "text/plain": [
       "0.0093624867577151022"
      ]
     },
     "execution_count": 11,
     "metadata": {},
     "output_type": "execute_result"
    }
   ],
   "source": [
    "bracket(mydata,mydata,dt,fnoise=freq[0:int(freq.size/2)+1],Snoise=Sn)"
   ]
  },
  {
   "cell_type": "code",
   "execution_count": 16,
   "metadata": {},
   "outputs": [
    {
     "data": {
      "text/plain": [
       "0.0093624894912763997"
      ]
     },
     "execution_count": 16,
     "metadata": {},
     "output_type": "execute_result"
    }
   ],
   "source": [
    "bracket(mydata,mydata,dt,fnoise=freq[3:int(freq.size/2)-2],Snoise=Sn[3:int(freq.size/2)-2])"
   ]
  },
  {
   "cell_type": "code",
   "execution_count": null,
   "metadata": {
    "collapsed": true
   },
   "outputs": [],
   "source": []
  }
 ],
 "metadata": {
  "kernelspec": {
   "display_name": "Python 3",
   "language": "python",
   "name": "python3"
  },
  "language_info": {
   "codemirror_mode": {
    "name": "ipython",
    "version": 3
   },
   "file_extension": ".py",
   "mimetype": "text/x-python",
   "name": "python",
   "nbconvert_exporter": "python",
   "pygments_lexer": "ipython3",
   "version": "3.6.3"
  }
 },
 "nbformat": 4,
 "nbformat_minor": 2
}
