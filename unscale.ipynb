{
 "cells": [
  {
   "cell_type": "code",
   "execution_count": 1,
   "metadata": {},
   "outputs": [
    {
     "name": "stdout",
     "output_type": "stream",
     "text": [
      "0.451516612566\n"
     ]
    }
   ],
   "source": [
    "import numpy as np\n",
    "from astropy.io import fits\n",
    "from subprocess import Popen, PIPE\n",
    "import sys\n",
    "\n",
    "deftype = 6\n",
    "if(deftype==1):\n",
    "    our_file = fits.open('Trf_Johannsen_a13.fits') # THIS IS FOR JOHANNSEN ALPHA_13 \n",
    "elif(deftype==2):\n",
    "    our_file = fits.open('Trf_Johannsen_a22.fits') # THIS IS FOR JOHANNSEN ALPHA_22\n",
    "elif(deftype==3):\n",
    "    our_file = fits.open('Trf_Johannsen_e3.fits') \n",
    "elif(deftype==4):\n",
    "    our_file = fits.open('Trf_KRZ_d1.fits') # THIS IS FOR KRZ d1    \n",
    "elif(deftype==6):\n",
    "    our_file = fits.open('Trf_KRZ_d2.fits') # THIS IS FOR KRZ d1   \n",
    "else:\n",
    "    print(\"deftype doesn't match with any deformation parameter\")\n",
    "#our_file = fits.open('Trf_ordered_e_0.00e+00.a22_0.00e+00.a52_0.00e+00.fits')\n",
    "spindpgrid = our_file[1].data\n",
    "\n",
    "spin = 0.8\n",
    "dpscaled = 0.5\n",
    "\n",
    "for j in np.arange(29):\n",
    "    if((spin<spindpgrid[j+1][0]) and (spin>spindpgrid[j][0])):\n",
    "            #print spin[i][0],spindpgrid[j][0], spindpgrid[j+1][0]\n",
    "            #for k in np.arange(dpind):\n",
    "            deflim=0.0\n",
    "            ifaca = (spin-spindpgrid[j][0])/(spindpgrid[j+1][0]-spindpgrid[j][0])\n",
    "            if(dpscaled < 0):\n",
    "                deflim = spindpgrid[j][1][0] + ifaca*(spindpgrid[j+1][1][0]-spindpgrid[j][1][0])\n",
    "                dpcorrect = -dpscaled*deflim\n",
    "            else:\n",
    "                deflim = spindpgrid[j][1][29] + ifaca*(spindpgrid[j+1][1][29]-spindpgrid[j][1][29])\n",
    "                dpcorrect = dpscaled*deflim\n",
    "                        \n",
    "print(dpcorrect)\n"
   ]
  },
  {
   "cell_type": "code",
   "execution_count": 3,
   "metadata": {},
   "outputs": [
    {
     "data": {
      "text/plain": [
       "0.22147579339703735"
      ]
     },
     "execution_count": 3,
     "metadata": {},
     "output_type": "execute_result"
    }
   ],
   "source": [
    "#0.2/sc02==dpcorrect/dpscaled\n",
    "0.5*0.2/dpcorrect"
   ]
  },
  {
   "cell_type": "code",
   "execution_count": 4,
   "metadata": {},
   "outputs": [
    {
     "data": {
      "text/plain": [
       "0.86602540378443871"
      ]
     },
     "execution_count": 4,
     "metadata": {},
     "output_type": "execute_result"
    }
   ],
   "source": [
    "np.cos(30*np.pi/180\n",
    "      )"
   ]
  },
  {
   "cell_type": "code",
   "execution_count": null,
   "metadata": {
    "collapsed": true
   },
   "outputs": [],
   "source": []
  }
 ],
 "metadata": {
  "kernelspec": {
   "display_name": "Python 3",
   "language": "python",
   "name": "python3"
  },
  "language_info": {
   "codemirror_mode": {
    "name": "ipython",
    "version": 3
   },
   "file_extension": ".py",
   "mimetype": "text/x-python",
   "name": "python",
   "nbconvert_exporter": "python",
   "pygments_lexer": "ipython3",
   "version": "3.6.3"
  }
 },
 "nbformat": 4,
 "nbformat_minor": 2
}
