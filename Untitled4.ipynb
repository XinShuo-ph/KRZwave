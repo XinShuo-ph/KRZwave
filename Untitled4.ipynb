{
 "cells": [
  {
   "cell_type": "code",
   "execution_count": 14,
   "metadata": {
    "collapsed": true
   },
   "outputs": [],
   "source": [
    "import numpy as np\n",
    "from KRZmetric import *"
   ]
  },
  {
   "cell_type": "code",
   "execution_count": 34,
   "metadata": {},
   "outputs": [
    {
     "name": "stdout",
     "output_type": "stream",
     "text": [
      "a=0.100000, e=0.200000, p=7.000000\n",
      "($\\Omega_r,\\Omega_\\phi$)=(0.022256,0.052544)\n"
     ]
    }
   ],
   "source": [
    "a=0.1\n",
    "e=0.2\n",
    "p=7\n",
    "print('a=%f, e=%f, p=%f'%(a,e,p))\n",
    "print('($\\Omega_r,\\Omega_\\phi$)=(%f,%f)'%(getfreq_dt_fromepa(e,p,a)))"
   ]
  },
  {
   "cell_type": "code",
   "execution_count": 10,
   "metadata": {},
   "outputs": [
    {
     "name": "stdout",
     "output_type": "stream",
     "text": [
      "a=0.990000, e=0.400000, p=7.000000\n",
      "($\\Omega_r,\\Omega_\\phi$)=(0.029886,0.041990)\n"
     ]
    }
   ],
   "source": [
    "a=0.99\n",
    "e=0.4\n",
    "p=7\n",
    "print('a=%f, e=%f, p=%f'%(a,e,p))\n",
    "print('($\\Omega_r,\\Omega_\\phi$)=(%f,%f)'%(getfreq_dt_fromepa(e,p,a)))"
   ]
  },
  {
   "cell_type": "code",
   "execution_count": null,
   "metadata": {
    "collapsed": true
   },
   "outputs": [],
   "source": []
  }
 ],
 "metadata": {
  "kernelspec": {
   "display_name": "Python 3",
   "language": "python",
   "name": "python3"
  },
  "language_info": {
   "codemirror_mode": {
    "name": "ipython",
    "version": 3
   },
   "file_extension": ".py",
   "mimetype": "text/x-python",
   "name": "python",
   "nbconvert_exporter": "python",
   "pygments_lexer": "ipython3",
   "version": "3.6.3"
  }
 },
 "nbformat": 4,
 "nbformat_minor": 2
}
